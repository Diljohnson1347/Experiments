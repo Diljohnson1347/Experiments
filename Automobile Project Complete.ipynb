{
 "cells": [
  {
   "cell_type": "markdown",
   "metadata": {},
   "source": [
    "## Importing Data"
   ]
  },
  {
   "cell_type": "code",
   "execution_count": 233,
   "metadata": {},
   "outputs": [],
   "source": [
    "import pandas as pd\n",
    "import numpy as np"
   ]
  },
  {
   "cell_type": "code",
   "execution_count": 234,
   "metadata": {},
   "outputs": [],
   "source": [
    "df = pd.read_csv('Automobile price data _Raw_.csv')"
   ]
  },
  {
   "cell_type": "code",
   "execution_count": 235,
   "metadata": {},
   "outputs": [
    {
     "data": {
      "text/html": [
       "<div>\n",
       "<style scoped>\n",
       "    .dataframe tbody tr th:only-of-type {\n",
       "        vertical-align: middle;\n",
       "    }\n",
       "\n",
       "    .dataframe tbody tr th {\n",
       "        vertical-align: top;\n",
       "    }\n",
       "\n",
       "    .dataframe thead th {\n",
       "        text-align: right;\n",
       "    }\n",
       "</style>\n",
       "<table border=\"1\" class=\"dataframe\">\n",
       "  <thead>\n",
       "    <tr style=\"text-align: right;\">\n",
       "      <th></th>\n",
       "      <th>symboling</th>\n",
       "      <th>normalized-losses</th>\n",
       "      <th>make</th>\n",
       "      <th>fuel-type</th>\n",
       "      <th>aspiration</th>\n",
       "      <th>num-of-doors</th>\n",
       "      <th>body-style</th>\n",
       "      <th>drive-wheels</th>\n",
       "      <th>engine-location</th>\n",
       "      <th>wheel-base</th>\n",
       "      <th>...</th>\n",
       "      <th>engine-size</th>\n",
       "      <th>fuel-system</th>\n",
       "      <th>bore</th>\n",
       "      <th>stroke</th>\n",
       "      <th>compression-ratio</th>\n",
       "      <th>horsepower</th>\n",
       "      <th>peak-rpm</th>\n",
       "      <th>city-mpg</th>\n",
       "      <th>highway-mpg</th>\n",
       "      <th>price</th>\n",
       "    </tr>\n",
       "  </thead>\n",
       "  <tbody>\n",
       "    <tr>\n",
       "      <th>0</th>\n",
       "      <td>3</td>\n",
       "      <td>?</td>\n",
       "      <td>alfa-romero</td>\n",
       "      <td>gas</td>\n",
       "      <td>std</td>\n",
       "      <td>two</td>\n",
       "      <td>convertible</td>\n",
       "      <td>rwd</td>\n",
       "      <td>front</td>\n",
       "      <td>88.6</td>\n",
       "      <td>...</td>\n",
       "      <td>130</td>\n",
       "      <td>mpfi</td>\n",
       "      <td>3.47</td>\n",
       "      <td>2.68</td>\n",
       "      <td>9.0</td>\n",
       "      <td>111</td>\n",
       "      <td>5000</td>\n",
       "      <td>21</td>\n",
       "      <td>27</td>\n",
       "      <td>13495</td>\n",
       "    </tr>\n",
       "    <tr>\n",
       "      <th>1</th>\n",
       "      <td>3</td>\n",
       "      <td>?</td>\n",
       "      <td>alfa-romero</td>\n",
       "      <td>gas</td>\n",
       "      <td>std</td>\n",
       "      <td>two</td>\n",
       "      <td>convertible</td>\n",
       "      <td>rwd</td>\n",
       "      <td>front</td>\n",
       "      <td>88.6</td>\n",
       "      <td>...</td>\n",
       "      <td>130</td>\n",
       "      <td>mpfi</td>\n",
       "      <td>3.47</td>\n",
       "      <td>2.68</td>\n",
       "      <td>9.0</td>\n",
       "      <td>111</td>\n",
       "      <td>5000</td>\n",
       "      <td>21</td>\n",
       "      <td>27</td>\n",
       "      <td>16500</td>\n",
       "    </tr>\n",
       "    <tr>\n",
       "      <th>2</th>\n",
       "      <td>1</td>\n",
       "      <td>?</td>\n",
       "      <td>alfa-romero</td>\n",
       "      <td>gas</td>\n",
       "      <td>std</td>\n",
       "      <td>two</td>\n",
       "      <td>hatchback</td>\n",
       "      <td>rwd</td>\n",
       "      <td>front</td>\n",
       "      <td>94.5</td>\n",
       "      <td>...</td>\n",
       "      <td>152</td>\n",
       "      <td>mpfi</td>\n",
       "      <td>2.68</td>\n",
       "      <td>3.47</td>\n",
       "      <td>9.0</td>\n",
       "      <td>154</td>\n",
       "      <td>5000</td>\n",
       "      <td>19</td>\n",
       "      <td>26</td>\n",
       "      <td>16500</td>\n",
       "    </tr>\n",
       "    <tr>\n",
       "      <th>3</th>\n",
       "      <td>2</td>\n",
       "      <td>164</td>\n",
       "      <td>audi</td>\n",
       "      <td>gas</td>\n",
       "      <td>std</td>\n",
       "      <td>four</td>\n",
       "      <td>sedan</td>\n",
       "      <td>fwd</td>\n",
       "      <td>front</td>\n",
       "      <td>99.8</td>\n",
       "      <td>...</td>\n",
       "      <td>109</td>\n",
       "      <td>mpfi</td>\n",
       "      <td>3.19</td>\n",
       "      <td>3.40</td>\n",
       "      <td>10.0</td>\n",
       "      <td>102</td>\n",
       "      <td>5500</td>\n",
       "      <td>24</td>\n",
       "      <td>30</td>\n",
       "      <td>13950</td>\n",
       "    </tr>\n",
       "    <tr>\n",
       "      <th>4</th>\n",
       "      <td>2</td>\n",
       "      <td>164</td>\n",
       "      <td>audi</td>\n",
       "      <td>gas</td>\n",
       "      <td>std</td>\n",
       "      <td>four</td>\n",
       "      <td>sedan</td>\n",
       "      <td>4wd</td>\n",
       "      <td>front</td>\n",
       "      <td>99.4</td>\n",
       "      <td>...</td>\n",
       "      <td>136</td>\n",
       "      <td>mpfi</td>\n",
       "      <td>3.19</td>\n",
       "      <td>3.40</td>\n",
       "      <td>8.0</td>\n",
       "      <td>115</td>\n",
       "      <td>5500</td>\n",
       "      <td>18</td>\n",
       "      <td>22</td>\n",
       "      <td>17450</td>\n",
       "    </tr>\n",
       "  </tbody>\n",
       "</table>\n",
       "<p>5 rows × 26 columns</p>\n",
       "</div>"
      ],
      "text/plain": [
       "   symboling normalized-losses         make fuel-type aspiration num-of-doors  \\\n",
       "0          3                 ?  alfa-romero       gas        std          two   \n",
       "1          3                 ?  alfa-romero       gas        std          two   \n",
       "2          1                 ?  alfa-romero       gas        std          two   \n",
       "3          2               164         audi       gas        std         four   \n",
       "4          2               164         audi       gas        std         four   \n",
       "\n",
       "    body-style drive-wheels engine-location  wheel-base  ...  engine-size  \\\n",
       "0  convertible          rwd           front        88.6  ...          130   \n",
       "1  convertible          rwd           front        88.6  ...          130   \n",
       "2    hatchback          rwd           front        94.5  ...          152   \n",
       "3        sedan          fwd           front        99.8  ...          109   \n",
       "4        sedan          4wd           front        99.4  ...          136   \n",
       "\n",
       "   fuel-system  bore  stroke compression-ratio horsepower  peak-rpm city-mpg  \\\n",
       "0         mpfi  3.47    2.68               9.0        111      5000       21   \n",
       "1         mpfi  3.47    2.68               9.0        111      5000       21   \n",
       "2         mpfi  2.68    3.47               9.0        154      5000       19   \n",
       "3         mpfi  3.19    3.40              10.0        102      5500       24   \n",
       "4         mpfi  3.19    3.40               8.0        115      5500       18   \n",
       "\n",
       "  highway-mpg  price  \n",
       "0          27  13495  \n",
       "1          27  16500  \n",
       "2          26  16500  \n",
       "3          30  13950  \n",
       "4          22  17450  \n",
       "\n",
       "[5 rows x 26 columns]"
      ]
     },
     "execution_count": 235,
     "metadata": {},
     "output_type": "execute_result"
    }
   ],
   "source": [
    "df.head()"
   ]
  },
  {
   "cell_type": "code",
   "execution_count": 236,
   "metadata": {},
   "outputs": [
    {
     "data": {
      "text/plain": [
       "(205, 26)"
      ]
     },
     "execution_count": 236,
     "metadata": {},
     "output_type": "execute_result"
    }
   ],
   "source": [
    "df.shape"
   ]
  },
  {
   "cell_type": "code",
   "execution_count": 237,
   "metadata": {},
   "outputs": [
    {
     "data": {
      "text/plain": [
       "symboling            0\n",
       "normalized-losses    0\n",
       "make                 0\n",
       "fuel-type            0\n",
       "aspiration           0\n",
       "num-of-doors         0\n",
       "body-style           0\n",
       "drive-wheels         0\n",
       "engine-location      0\n",
       "wheel-base           0\n",
       "length               0\n",
       "width                0\n",
       "height               0\n",
       "curb-weight          0\n",
       "engine-type          0\n",
       "num-of-cylinders     0\n",
       "engine-size          0\n",
       "fuel-system          0\n",
       "bore                 0\n",
       "stroke               0\n",
       "compression-ratio    0\n",
       "horsepower           0\n",
       "peak-rpm             0\n",
       "city-mpg             0\n",
       "highway-mpg          0\n",
       "price                0\n",
       "dtype: int64"
      ]
     },
     "execution_count": 237,
     "metadata": {},
     "output_type": "execute_result"
    }
   ],
   "source": [
    "df.isnull().sum()"
   ]
  },
  {
   "cell_type": "code",
   "execution_count": 238,
   "metadata": {},
   "outputs": [
    {
     "name": "stdout",
     "output_type": "stream",
     "text": [
      "<class 'pandas.core.frame.DataFrame'>\n",
      "RangeIndex: 205 entries, 0 to 204\n",
      "Data columns (total 26 columns):\n",
      " #   Column             Non-Null Count  Dtype  \n",
      "---  ------             --------------  -----  \n",
      " 0   symboling          205 non-null    int64  \n",
      " 1   normalized-losses  205 non-null    object \n",
      " 2   make               205 non-null    object \n",
      " 3   fuel-type          205 non-null    object \n",
      " 4   aspiration         205 non-null    object \n",
      " 5   num-of-doors       205 non-null    object \n",
      " 6   body-style         205 non-null    object \n",
      " 7   drive-wheels       205 non-null    object \n",
      " 8   engine-location    205 non-null    object \n",
      " 9   wheel-base         205 non-null    float64\n",
      " 10  length             205 non-null    float64\n",
      " 11  width              205 non-null    float64\n",
      " 12  height             205 non-null    float64\n",
      " 13  curb-weight        205 non-null    int64  \n",
      " 14  engine-type        205 non-null    object \n",
      " 15  num-of-cylinders   205 non-null    object \n",
      " 16  engine-size        205 non-null    int64  \n",
      " 17  fuel-system        205 non-null    object \n",
      " 18  bore               205 non-null    object \n",
      " 19  stroke             205 non-null    object \n",
      " 20  compression-ratio  205 non-null    float64\n",
      " 21  horsepower         205 non-null    object \n",
      " 22  peak-rpm           205 non-null    object \n",
      " 23  city-mpg           205 non-null    int64  \n",
      " 24  highway-mpg        205 non-null    int64  \n",
      " 25  price              205 non-null    object \n",
      "dtypes: float64(5), int64(5), object(16)\n",
      "memory usage: 41.8+ KB\n"
     ]
    }
   ],
   "source": [
    "#So there are no 'np.nan' values in the data, but still some columns are object type when they should be integer or float\n",
    "df.info()"
   ]
  },
  {
   "cell_type": "code",
   "execution_count": 239,
   "metadata": {},
   "outputs": [
    {
     "data": {
      "text/plain": [
       "array(['?', '164', '158', '192', '188', '121', '98', '81', '118', '148',\n",
       "       '110', '145', '137', '101', '78', '106', '85', '107', '104', '113',\n",
       "       '150', '129', '115', '93', '142', '161', '153', '125', '128',\n",
       "       '122', '103', '168', '108', '194', '231', '119', '154', '74',\n",
       "       '186', '83', '102', '89', '87', '77', '91', '134', '65', '197',\n",
       "       '90', '94', '256', '95'], dtype=object)"
      ]
     },
     "execution_count": 239,
     "metadata": {},
     "output_type": "execute_result"
    }
   ],
   "source": [
    "#Checking to see what value is making this column a data type 'object'\n",
    "df['normalized-losses'].unique()"
   ]
  },
  {
   "cell_type": "code",
   "execution_count": 240,
   "metadata": {},
   "outputs": [
    {
     "name": "stdout",
     "output_type": "stream",
     "text": [
      "make ['alfa-romero' 'audi' 'bmw' 'chevrolet' 'dodge' 'honda' 'isuzu' 'jaguar'\n",
      " 'mazda' 'mercedes-benz' 'mercury' 'mitsubishi' 'nissan' 'peugot'\n",
      " 'plymouth' 'porsche' 'renault' 'saab' 'subaru' 'toyota' 'volkswagen'\n",
      " 'volvo']\n",
      "fuel-type ['gas' 'diesel']\n",
      "aspiration ['std' 'turbo']\n",
      "num-of-doors ['two' 'four' '?']\n",
      "body-style ['convertible' 'hatchback' 'sedan' 'wagon' 'hardtop']\n",
      "drive-wheels ['rwd' 'fwd' '4wd']\n",
      "engine-location ['front' 'rear']\n",
      "engine-type ['dohc' 'ohcv' 'ohc' 'l' 'rotor' 'ohcf' 'dohcv']\n",
      "num-of-cylinders ['four' 'six' 'five' 'three' 'twelve' 'two' 'eight']\n",
      "fuel-system ['mpfi' '2bbl' 'mfi' '1bbl' 'spfi' '4bbl' 'idi' 'spdi']\n"
     ]
    }
   ],
   "source": [
    "#Checking to see if there is '?' value in these columns or not\n",
    "cols = ['make', 'fuel-type', 'aspiration', 'num-of-doors', 'body-style', 'drive-wheels', 'engine-location',\n",
    "       'engine-type', 'num-of-cylinders', 'fuel-system']\n",
    "for i in cols:\n",
    "    print(i ,df[i].unique())"
   ]
  },
  {
   "cell_type": "code",
   "execution_count": 241,
   "metadata": {},
   "outputs": [],
   "source": [
    "#only column 'num-of-doors' has value '?' in it\n",
    "#Columns 'fuel-type', 'aspiration', 'num-of-doors', 'engine-location' will need label encoding\n",
    "#Column 'num-of-cylinders' can be replaced with its respective values\n",
    "#Every other column needs OneHotEncoding"
   ]
  },
  {
   "cell_type": "code",
   "execution_count": 242,
   "metadata": {},
   "outputs": [],
   "source": [
    "#Replacing '?' values with mode as this is a categorical column\n",
    "mode_nod = df['num-of-doors'].value_counts().idxmax()\n",
    "df['num-of-doors'].replace('?', mode_nod, inplace = True)\n"
   ]
  },
  {
   "cell_type": "code",
   "execution_count": 243,
   "metadata": {},
   "outputs": [
    {
     "name": "stdout",
     "output_type": "stream",
     "text": [
      "     symboling normalized-losses         make fuel-type aspiration  \\\n",
      "0            3                 ?  alfa-romero       gas        std   \n",
      "1            3                 ?  alfa-romero       gas        std   \n",
      "2            1                 ?  alfa-romero       gas        std   \n",
      "3            2               164         audi       gas        std   \n",
      "4            2               164         audi       gas        std   \n",
      "..         ...               ...          ...       ...        ...   \n",
      "200         -1                95        volvo       gas        std   \n",
      "201         -1                95        volvo       gas      turbo   \n",
      "202         -1                95        volvo       gas        std   \n",
      "203         -1                95        volvo    diesel      turbo   \n",
      "204         -1                95        volvo       gas      turbo   \n",
      "\n",
      "    num-of-doors   body-style drive-wheels engine-location  wheel-base  ...  \\\n",
      "0            two  convertible          rwd           front        88.6  ...   \n",
      "1            two  convertible          rwd           front        88.6  ...   \n",
      "2            two    hatchback          rwd           front        94.5  ...   \n",
      "3           four        sedan          fwd           front        99.8  ...   \n",
      "4           four        sedan          4wd           front        99.4  ...   \n",
      "..           ...          ...          ...             ...         ...  ...   \n",
      "200         four        sedan          rwd           front       109.1  ...   \n",
      "201         four        sedan          rwd           front       109.1  ...   \n",
      "202         four        sedan          rwd           front       109.1  ...   \n",
      "203         four        sedan          rwd           front       109.1  ...   \n",
      "204         four        sedan          rwd           front       109.1  ...   \n",
      "\n",
      "     engine-size  fuel-system  bore  stroke compression-ratio horsepower  \\\n",
      "0            130         mpfi  3.47    2.68               9.0        111   \n",
      "1            130         mpfi  3.47    2.68               9.0        111   \n",
      "2            152         mpfi  2.68    3.47               9.0        154   \n",
      "3            109         mpfi  3.19    3.40              10.0        102   \n",
      "4            136         mpfi  3.19    3.40               8.0        115   \n",
      "..           ...          ...   ...     ...               ...        ...   \n",
      "200          141         mpfi  3.78    3.15               9.5        114   \n",
      "201          141         mpfi  3.78    3.15               8.7        160   \n",
      "202          173         mpfi  3.58    2.87               8.8        134   \n",
      "203          145          idi  3.01    3.40              23.0        106   \n",
      "204          141         mpfi  3.78    3.15               9.5        114   \n",
      "\n",
      "     peak-rpm city-mpg highway-mpg  price  \n",
      "0        5000       21          27  13495  \n",
      "1        5000       21          27  16500  \n",
      "2        5000       19          26  16500  \n",
      "3        5500       24          30  13950  \n",
      "4        5500       18          22  17450  \n",
      "..        ...      ...         ...    ...  \n",
      "200      5400       23          28  16845  \n",
      "201      5300       19          25  19045  \n",
      "202      5500       18          23  21485  \n",
      "203      4800       26          27  22470  \n",
      "204      5400       19          25  22625  \n",
      "\n",
      "[205 rows x 26 columns]\n"
     ]
    }
   ],
   "source": [
    "print(df)"
   ]
  },
  {
   "cell_type": "code",
   "execution_count": 244,
   "metadata": {},
   "outputs": [],
   "source": [
    "df = df.replace('?', np.nan)\n"
   ]
  },
  {
   "cell_type": "code",
   "execution_count": 245,
   "metadata": {},
   "outputs": [
    {
     "data": {
      "text/plain": [
       "Index(['symboling', 'normalized-losses', 'make', 'fuel-type', 'aspiration',\n",
       "       'num-of-doors', 'body-style', 'drive-wheels', 'engine-location',\n",
       "       'wheel-base', 'length', 'width', 'height', 'curb-weight', 'engine-type',\n",
       "       'num-of-cylinders', 'engine-size', 'fuel-system', 'bore', 'stroke',\n",
       "       'compression-ratio', 'horsepower', 'peak-rpm', 'city-mpg',\n",
       "       'highway-mpg', 'price'],\n",
       "      dtype='object')"
      ]
     },
     "execution_count": 245,
     "metadata": {},
     "output_type": "execute_result"
    }
   ],
   "source": [
    "df.columns"
   ]
  },
  {
   "cell_type": "code",
   "execution_count": 246,
   "metadata": {},
   "outputs": [],
   "source": [
    "cols = ['normalized-losses', 'bore', 'stroke', 'horsepower', 'peak-rpm', 'price']\n",
    "for i in cols:\n",
    "    df[i] = pd.to_numeric(df[i])"
   ]
  },
  {
   "cell_type": "code",
   "execution_count": 247,
   "metadata": {},
   "outputs": [
    {
     "data": {
      "text/html": [
       "<div>\n",
       "<style scoped>\n",
       "    .dataframe tbody tr th:only-of-type {\n",
       "        vertical-align: middle;\n",
       "    }\n",
       "\n",
       "    .dataframe tbody tr th {\n",
       "        vertical-align: top;\n",
       "    }\n",
       "\n",
       "    .dataframe thead th {\n",
       "        text-align: right;\n",
       "    }\n",
       "</style>\n",
       "<table border=\"1\" class=\"dataframe\">\n",
       "  <thead>\n",
       "    <tr style=\"text-align: right;\">\n",
       "      <th></th>\n",
       "      <th>symboling</th>\n",
       "      <th>normalized-losses</th>\n",
       "      <th>make</th>\n",
       "      <th>fuel-type</th>\n",
       "      <th>aspiration</th>\n",
       "      <th>num-of-doors</th>\n",
       "      <th>body-style</th>\n",
       "      <th>drive-wheels</th>\n",
       "      <th>engine-location</th>\n",
       "      <th>wheel-base</th>\n",
       "      <th>...</th>\n",
       "      <th>engine-size</th>\n",
       "      <th>fuel-system</th>\n",
       "      <th>bore</th>\n",
       "      <th>stroke</th>\n",
       "      <th>compression-ratio</th>\n",
       "      <th>horsepower</th>\n",
       "      <th>peak-rpm</th>\n",
       "      <th>city-mpg</th>\n",
       "      <th>highway-mpg</th>\n",
       "      <th>price</th>\n",
       "    </tr>\n",
       "  </thead>\n",
       "  <tbody>\n",
       "    <tr>\n",
       "      <th>0</th>\n",
       "      <td>3</td>\n",
       "      <td>122.0</td>\n",
       "      <td>alfa-romero</td>\n",
       "      <td>gas</td>\n",
       "      <td>std</td>\n",
       "      <td>two</td>\n",
       "      <td>convertible</td>\n",
       "      <td>rwd</td>\n",
       "      <td>front</td>\n",
       "      <td>88.6</td>\n",
       "      <td>...</td>\n",
       "      <td>130</td>\n",
       "      <td>mpfi</td>\n",
       "      <td>3.47</td>\n",
       "      <td>2.68</td>\n",
       "      <td>9.0</td>\n",
       "      <td>111.0</td>\n",
       "      <td>5000.0</td>\n",
       "      <td>21</td>\n",
       "      <td>27</td>\n",
       "      <td>13495.0</td>\n",
       "    </tr>\n",
       "    <tr>\n",
       "      <th>1</th>\n",
       "      <td>3</td>\n",
       "      <td>122.0</td>\n",
       "      <td>alfa-romero</td>\n",
       "      <td>gas</td>\n",
       "      <td>std</td>\n",
       "      <td>two</td>\n",
       "      <td>convertible</td>\n",
       "      <td>rwd</td>\n",
       "      <td>front</td>\n",
       "      <td>88.6</td>\n",
       "      <td>...</td>\n",
       "      <td>130</td>\n",
       "      <td>mpfi</td>\n",
       "      <td>3.47</td>\n",
       "      <td>2.68</td>\n",
       "      <td>9.0</td>\n",
       "      <td>111.0</td>\n",
       "      <td>5000.0</td>\n",
       "      <td>21</td>\n",
       "      <td>27</td>\n",
       "      <td>16500.0</td>\n",
       "    </tr>\n",
       "    <tr>\n",
       "      <th>2</th>\n",
       "      <td>1</td>\n",
       "      <td>122.0</td>\n",
       "      <td>alfa-romero</td>\n",
       "      <td>gas</td>\n",
       "      <td>std</td>\n",
       "      <td>two</td>\n",
       "      <td>hatchback</td>\n",
       "      <td>rwd</td>\n",
       "      <td>front</td>\n",
       "      <td>94.5</td>\n",
       "      <td>...</td>\n",
       "      <td>152</td>\n",
       "      <td>mpfi</td>\n",
       "      <td>2.68</td>\n",
       "      <td>3.47</td>\n",
       "      <td>9.0</td>\n",
       "      <td>154.0</td>\n",
       "      <td>5000.0</td>\n",
       "      <td>19</td>\n",
       "      <td>26</td>\n",
       "      <td>16500.0</td>\n",
       "    </tr>\n",
       "    <tr>\n",
       "      <th>3</th>\n",
       "      <td>2</td>\n",
       "      <td>164.0</td>\n",
       "      <td>audi</td>\n",
       "      <td>gas</td>\n",
       "      <td>std</td>\n",
       "      <td>four</td>\n",
       "      <td>sedan</td>\n",
       "      <td>fwd</td>\n",
       "      <td>front</td>\n",
       "      <td>99.8</td>\n",
       "      <td>...</td>\n",
       "      <td>109</td>\n",
       "      <td>mpfi</td>\n",
       "      <td>3.19</td>\n",
       "      <td>3.40</td>\n",
       "      <td>10.0</td>\n",
       "      <td>102.0</td>\n",
       "      <td>5500.0</td>\n",
       "      <td>24</td>\n",
       "      <td>30</td>\n",
       "      <td>13950.0</td>\n",
       "    </tr>\n",
       "    <tr>\n",
       "      <th>4</th>\n",
       "      <td>2</td>\n",
       "      <td>164.0</td>\n",
       "      <td>audi</td>\n",
       "      <td>gas</td>\n",
       "      <td>std</td>\n",
       "      <td>four</td>\n",
       "      <td>sedan</td>\n",
       "      <td>4wd</td>\n",
       "      <td>front</td>\n",
       "      <td>99.4</td>\n",
       "      <td>...</td>\n",
       "      <td>136</td>\n",
       "      <td>mpfi</td>\n",
       "      <td>3.19</td>\n",
       "      <td>3.40</td>\n",
       "      <td>8.0</td>\n",
       "      <td>115.0</td>\n",
       "      <td>5500.0</td>\n",
       "      <td>18</td>\n",
       "      <td>22</td>\n",
       "      <td>17450.0</td>\n",
       "    </tr>\n",
       "  </tbody>\n",
       "</table>\n",
       "<p>5 rows × 26 columns</p>\n",
       "</div>"
      ],
      "text/plain": [
       "   symboling  normalized-losses         make fuel-type aspiration  \\\n",
       "0          3              122.0  alfa-romero       gas        std   \n",
       "1          3              122.0  alfa-romero       gas        std   \n",
       "2          1              122.0  alfa-romero       gas        std   \n",
       "3          2              164.0         audi       gas        std   \n",
       "4          2              164.0         audi       gas        std   \n",
       "\n",
       "  num-of-doors   body-style drive-wheels engine-location  wheel-base  ...  \\\n",
       "0          two  convertible          rwd           front        88.6  ...   \n",
       "1          two  convertible          rwd           front        88.6  ...   \n",
       "2          two    hatchback          rwd           front        94.5  ...   \n",
       "3         four        sedan          fwd           front        99.8  ...   \n",
       "4         four        sedan          4wd           front        99.4  ...   \n",
       "\n",
       "   engine-size  fuel-system  bore  stroke compression-ratio horsepower  \\\n",
       "0          130         mpfi  3.47    2.68               9.0      111.0   \n",
       "1          130         mpfi  3.47    2.68               9.0      111.0   \n",
       "2          152         mpfi  2.68    3.47               9.0      154.0   \n",
       "3          109         mpfi  3.19    3.40              10.0      102.0   \n",
       "4          136         mpfi  3.19    3.40               8.0      115.0   \n",
       "\n",
       "   peak-rpm city-mpg  highway-mpg    price  \n",
       "0    5000.0       21           27  13495.0  \n",
       "1    5000.0       21           27  16500.0  \n",
       "2    5000.0       19           26  16500.0  \n",
       "3    5500.0       24           30  13950.0  \n",
       "4    5500.0       18           22  17450.0  \n",
       "\n",
       "[5 rows x 26 columns]"
      ]
     },
     "execution_count": 247,
     "metadata": {},
     "output_type": "execute_result"
    }
   ],
   "source": [
    "df.fillna(df.mean(), inplace= True)\n",
    "df.head()"
   ]
  },
  {
   "cell_type": "code",
   "execution_count": 248,
   "metadata": {},
   "outputs": [
    {
     "data": {
      "text/plain": [
       "45400.0"
      ]
     },
     "execution_count": 248,
     "metadata": {},
     "output_type": "execute_result"
    }
   ],
   "source": [
    "df['price'].max()"
   ]
  },
  {
   "cell_type": "markdown",
   "metadata": {},
   "source": [
    "## EDA"
   ]
  },
  {
   "cell_type": "code",
   "execution_count": 249,
   "metadata": {},
   "outputs": [
    {
     "data": {
      "image/png": "[encoded data removed]",
      "text/plain": [
       "<Figure size 360x360 with 1 Axes>"
      ]
     },
     "metadata": {
      "needs_background": "light"
     },
     "output_type": "display_data"
    }
   ],
   "source": [
    "#Lets see which automobile maker has the highest price\n",
    "#Mercedes Benz has the highest price\n",
    "import seaborn as sns\n",
    "import matplotlib.pyplot as plt\n",
    "plt.bar(x = 'make', height = 'price', data = df )\n",
    "plt.xticks(rotation = 90)\n",
    "plt.show()"
   ]
  },
  {
   "cell_type": "code",
   "execution_count": 250,
   "metadata": {},
   "outputs": [
    {
     "data": {
      "image/png": "[encoded data removed]",
      "text/plain": [
       "<Figure size 360x360 with 1 Axes>"
      ]
     },
     "metadata": {
      "needs_background": "light"
     },
     "output_type": "display_data"
    }
   ],
   "source": [
    "#lets see which car has more least risk \n",
    "#Volvo has this\n",
    "plt.bar(x = 'make', height = 'symboling', data = df )\n",
    "plt.xticks(rotation = 90)\n",
    "plt.show()"
   ]
  },
  {
   "cell_type": "code",
   "execution_count": 251,
   "metadata": {},
   "outputs": [
    {
     "data": {
      "image/png": "[encoded data removed]",
      "text/plain": [
       "<Figure size 360x360 with 1 Axes>"
      ]
     },
     "metadata": {
      "needs_background": "light"
     },
     "output_type": "display_data"
    }
   ],
   "source": [
    "#which car has the highest normalized losses\n",
    "#Volkswagen\n",
    "plt.bar(x = 'make', height = 'normalized-losses', data = df )\n",
    "plt.xticks(rotation = 90)\n",
    "plt.show()"
   ]
  },
  {
   "cell_type": "code",
   "execution_count": 252,
   "metadata": {},
   "outputs": [
    {
     "data": {
      "text/plain": [
       "<AxesSubplot:xlabel='num-of-doors', ylabel='price'>"
      ]
     },
     "execution_count": 252,
     "metadata": {},
     "output_type": "execute_result"
    },
    {
     "data": {
      "image/png": "[encoded data removed]",
      "text/plain": [
       "<Figure size 360x360 with 1 Axes>"
      ]
     },
     "metadata": {
      "needs_background": "light"
     },
     "output_type": "display_data"
    }
   ],
   "source": [
    "sns.boxplot(x = 'num-of-doors', y = 'price',data = df)"
   ]
  },
  {
   "cell_type": "code",
   "execution_count": 253,
   "metadata": {},
   "outputs": [
    {
     "data": {
      "text/plain": [
       "<AxesSubplot:xlabel='body-style', ylabel='price'>"
      ]
     },
     "execution_count": 253,
     "metadata": {},
     "output_type": "execute_result"
    },
    {
     "data": {
      "image/png": "[encoded data removed]",
      "text/plain": [
       "<Figure size 360x360 with 1 Axes>"
      ]
     },
     "metadata": {
      "needs_background": "light"
     },
     "output_type": "display_data"
    }
   ],
   "source": [
    "#which body style has more price\n",
    "#hatchback the least\n",
    "sns.boxplot(x = 'body-style', y = 'price',data = df)"
   ]
  },
  {
   "cell_type": "code",
   "execution_count": 254,
   "metadata": {},
   "outputs": [
    {
     "data": {
      "text/html": [
       "<div>\n",
       "<style scoped>\n",
       "    .dataframe tbody tr th:only-of-type {\n",
       "        vertical-align: middle;\n",
       "    }\n",
       "\n",
       "    .dataframe tbody tr th {\n",
       "        vertical-align: top;\n",
       "    }\n",
       "\n",
       "    .dataframe thead th {\n",
       "        text-align: right;\n",
       "    }\n",
       "</style>\n",
       "<table border=\"1\" class=\"dataframe\">\n",
       "  <thead>\n",
       "    <tr style=\"text-align: right;\">\n",
       "      <th></th>\n",
       "      <th>symboling</th>\n",
       "      <th>normalized-losses</th>\n",
       "      <th>wheel-base</th>\n",
       "      <th>length</th>\n",
       "      <th>width</th>\n",
       "      <th>height</th>\n",
       "      <th>curb-weight</th>\n",
       "      <th>engine-size</th>\n",
       "      <th>bore</th>\n",
       "      <th>stroke</th>\n",
       "      <th>compression-ratio</th>\n",
       "      <th>horsepower</th>\n",
       "      <th>peak-rpm</th>\n",
       "      <th>city-mpg</th>\n",
       "      <th>highway-mpg</th>\n",
       "      <th>price</th>\n",
       "    </tr>\n",
       "  </thead>\n",
       "  <tbody>\n",
       "    <tr>\n",
       "      <th>symboling</th>\n",
       "      <td>1.000000</td>\n",
       "      <td>0.465190</td>\n",
       "      <td>-0.531954</td>\n",
       "      <td>-0.357612</td>\n",
       "      <td>-0.232919</td>\n",
       "      <td>-0.541038</td>\n",
       "      <td>-0.227691</td>\n",
       "      <td>-0.105790</td>\n",
       "      <td>-0.130083</td>\n",
       "      <td>-0.008689</td>\n",
       "      <td>-0.178515</td>\n",
       "      <td>0.071389</td>\n",
       "      <td>0.273679</td>\n",
       "      <td>-0.035823</td>\n",
       "      <td>0.034606</td>\n",
       "      <td>-0.082201</td>\n",
       "    </tr>\n",
       "    <tr>\n",
       "      <th>normalized-losses</th>\n",
       "      <td>0.465190</td>\n",
       "      <td>1.000000</td>\n",
       "      <td>-0.056518</td>\n",
       "      <td>0.019209</td>\n",
       "      <td>0.084195</td>\n",
       "      <td>-0.370706</td>\n",
       "      <td>0.097785</td>\n",
       "      <td>0.110997</td>\n",
       "      <td>-0.029266</td>\n",
       "      <td>0.054929</td>\n",
       "      <td>-0.114525</td>\n",
       "      <td>0.203434</td>\n",
       "      <td>0.237748</td>\n",
       "      <td>-0.218749</td>\n",
       "      <td>-0.178221</td>\n",
       "      <td>0.133999</td>\n",
       "    </tr>\n",
       "    <tr>\n",
       "      <th>wheel-base</th>\n",
       "      <td>-0.531954</td>\n",
       "      <td>-0.056518</td>\n",
       "      <td>1.000000</td>\n",
       "      <td>0.874587</td>\n",
       "      <td>0.795144</td>\n",
       "      <td>0.589435</td>\n",
       "      <td>0.776386</td>\n",
       "      <td>0.569329</td>\n",
       "      <td>0.488760</td>\n",
       "      <td>0.160944</td>\n",
       "      <td>0.249786</td>\n",
       "      <td>0.351957</td>\n",
       "      <td>-0.360704</td>\n",
       "      <td>-0.470414</td>\n",
       "      <td>-0.544082</td>\n",
       "      <td>0.583168</td>\n",
       "    </tr>\n",
       "    <tr>\n",
       "      <th>length</th>\n",
       "      <td>-0.357612</td>\n",
       "      <td>0.019209</td>\n",
       "      <td>0.874587</td>\n",
       "      <td>1.000000</td>\n",
       "      <td>0.841118</td>\n",
       "      <td>0.491029</td>\n",
       "      <td>0.877728</td>\n",
       "      <td>0.683360</td>\n",
       "      <td>0.606462</td>\n",
       "      <td>0.129522</td>\n",
       "      <td>0.158414</td>\n",
       "      <td>0.554434</td>\n",
       "      <td>-0.287031</td>\n",
       "      <td>-0.670909</td>\n",
       "      <td>-0.704662</td>\n",
       "      <td>0.682986</td>\n",
       "    </tr>\n",
       "    <tr>\n",
       "      <th>width</th>\n",
       "      <td>-0.232919</td>\n",
       "      <td>0.084195</td>\n",
       "      <td>0.795144</td>\n",
       "      <td>0.841118</td>\n",
       "      <td>1.000000</td>\n",
       "      <td>0.279210</td>\n",
       "      <td>0.867032</td>\n",
       "      <td>0.735433</td>\n",
       "      <td>0.559152</td>\n",
       "      <td>0.182939</td>\n",
       "      <td>0.181129</td>\n",
       "      <td>0.642195</td>\n",
       "      <td>-0.219859</td>\n",
       "      <td>-0.642704</td>\n",
       "      <td>-0.677218</td>\n",
       "      <td>0.728699</td>\n",
       "    </tr>\n",
       "    <tr>\n",
       "      <th>height</th>\n",
       "      <td>-0.541038</td>\n",
       "      <td>-0.370706</td>\n",
       "      <td>0.589435</td>\n",
       "      <td>0.491029</td>\n",
       "      <td>0.279210</td>\n",
       "      <td>1.000000</td>\n",
       "      <td>0.295572</td>\n",
       "      <td>0.067149</td>\n",
       "      <td>0.171101</td>\n",
       "      <td>-0.055351</td>\n",
       "      <td>0.261214</td>\n",
       "      <td>-0.110137</td>\n",
       "      <td>-0.320602</td>\n",
       "      <td>-0.048640</td>\n",
       "      <td>-0.107358</td>\n",
       "      <td>0.134388</td>\n",
       "    </tr>\n",
       "    <tr>\n",
       "      <th>curb-weight</th>\n",
       "      <td>-0.227691</td>\n",
       "      <td>0.097785</td>\n",
       "      <td>0.776386</td>\n",
       "      <td>0.877728</td>\n",
       "      <td>0.867032</td>\n",
       "      <td>0.295572</td>\n",
       "      <td>1.000000</td>\n",
       "      <td>0.850594</td>\n",
       "      <td>0.648485</td>\n",
       "      <td>0.168783</td>\n",
       "      <td>0.151362</td>\n",
       "      <td>0.750968</td>\n",
       "      <td>-0.266283</td>\n",
       "      <td>-0.757414</td>\n",
       "      <td>-0.797465</td>\n",
       "      <td>0.820825</td>\n",
       "    </tr>\n",
       "    <tr>\n",
       "      <th>engine-size</th>\n",
       "      <td>-0.105790</td>\n",
       "      <td>0.110997</td>\n",
       "      <td>0.569329</td>\n",
       "      <td>0.683360</td>\n",
       "      <td>0.735433</td>\n",
       "      <td>0.067149</td>\n",
       "      <td>0.850594</td>\n",
       "      <td>1.000000</td>\n",
       "      <td>0.583798</td>\n",
       "      <td>0.203094</td>\n",
       "      <td>0.028971</td>\n",
       "      <td>0.810713</td>\n",
       "      <td>-0.244599</td>\n",
       "      <td>-0.653658</td>\n",
       "      <td>-0.677470</td>\n",
       "      <td>0.861752</td>\n",
       "    </tr>\n",
       "    <tr>\n",
       "      <th>bore</th>\n",
       "      <td>-0.130083</td>\n",
       "      <td>-0.029266</td>\n",
       "      <td>0.488760</td>\n",
       "      <td>0.606462</td>\n",
       "      <td>0.559152</td>\n",
       "      <td>0.171101</td>\n",
       "      <td>0.648485</td>\n",
       "      <td>0.583798</td>\n",
       "      <td>1.000000</td>\n",
       "      <td>-0.055909</td>\n",
       "      <td>0.005201</td>\n",
       "      <td>0.575737</td>\n",
       "      <td>-0.254761</td>\n",
       "      <td>-0.584508</td>\n",
       "      <td>-0.586992</td>\n",
       "      <td>0.532300</td>\n",
       "    </tr>\n",
       "    <tr>\n",
       "      <th>stroke</th>\n",
       "      <td>-0.008689</td>\n",
       "      <td>0.054929</td>\n",
       "      <td>0.160944</td>\n",
       "      <td>0.129522</td>\n",
       "      <td>0.182939</td>\n",
       "      <td>-0.055351</td>\n",
       "      <td>0.168783</td>\n",
       "      <td>0.203094</td>\n",
       "      <td>-0.055909</td>\n",
       "      <td>1.000000</td>\n",
       "      <td>0.186105</td>\n",
       "      <td>0.088264</td>\n",
       "      <td>-0.066844</td>\n",
       "      <td>-0.042179</td>\n",
       "      <td>-0.043961</td>\n",
       "      <td>0.082095</td>\n",
       "    </tr>\n",
       "    <tr>\n",
       "      <th>compression-ratio</th>\n",
       "      <td>-0.178515</td>\n",
       "      <td>-0.114525</td>\n",
       "      <td>0.249786</td>\n",
       "      <td>0.158414</td>\n",
       "      <td>0.181129</td>\n",
       "      <td>0.261214</td>\n",
       "      <td>0.151362</td>\n",
       "      <td>0.028971</td>\n",
       "      <td>0.005201</td>\n",
       "      <td>0.186105</td>\n",
       "      <td>1.000000</td>\n",
       "      <td>-0.205740</td>\n",
       "      <td>-0.435936</td>\n",
       "      <td>0.324701</td>\n",
       "      <td>0.265201</td>\n",
       "      <td>0.070990</td>\n",
       "    </tr>\n",
       "    <tr>\n",
       "      <th>horsepower</th>\n",
       "      <td>0.071389</td>\n",
       "      <td>0.203434</td>\n",
       "      <td>0.351957</td>\n",
       "      <td>0.554434</td>\n",
       "      <td>0.642195</td>\n",
       "      <td>-0.110137</td>\n",
       "      <td>0.750968</td>\n",
       "      <td>0.810713</td>\n",
       "      <td>0.575737</td>\n",
       "      <td>0.088264</td>\n",
       "      <td>-0.205740</td>\n",
       "      <td>1.000000</td>\n",
       "      <td>0.130971</td>\n",
       "      <td>-0.803162</td>\n",
       "      <td>-0.770903</td>\n",
       "      <td>0.757917</td>\n",
       "    </tr>\n",
       "    <tr>\n",
       "      <th>peak-rpm</th>\n",
       "      <td>0.273679</td>\n",
       "      <td>0.237748</td>\n",
       "      <td>-0.360704</td>\n",
       "      <td>-0.287031</td>\n",
       "      <td>-0.219859</td>\n",
       "      <td>-0.320602</td>\n",
       "      <td>-0.266283</td>\n",
       "      <td>-0.244599</td>\n",
       "      <td>-0.254761</td>\n",
       "      <td>-0.066844</td>\n",
       "      <td>-0.435936</td>\n",
       "      <td>0.130971</td>\n",
       "      <td>1.000000</td>\n",
       "      <td>-0.113723</td>\n",
       "      <td>-0.054257</td>\n",
       "      <td>-0.100854</td>\n",
       "    </tr>\n",
       "    <tr>\n",
       "      <th>city-mpg</th>\n",
       "      <td>-0.035823</td>\n",
       "      <td>-0.218749</td>\n",
       "      <td>-0.470414</td>\n",
       "      <td>-0.670909</td>\n",
       "      <td>-0.642704</td>\n",
       "      <td>-0.048640</td>\n",
       "      <td>-0.757414</td>\n",
       "      <td>-0.653658</td>\n",
       "      <td>-0.584508</td>\n",
       "      <td>-0.042179</td>\n",
       "      <td>0.324701</td>\n",
       "      <td>-0.803162</td>\n",
       "      <td>-0.113723</td>\n",
       "      <td>1.000000</td>\n",
       "      <td>0.971337</td>\n",
       "      <td>-0.667449</td>\n",
       "    </tr>\n",
       "    <tr>\n",
       "      <th>highway-mpg</th>\n",
       "      <td>0.034606</td>\n",
       "      <td>-0.178221</td>\n",
       "      <td>-0.544082</td>\n",
       "      <td>-0.704662</td>\n",
       "      <td>-0.677218</td>\n",
       "      <td>-0.107358</td>\n",
       "      <td>-0.797465</td>\n",
       "      <td>-0.677470</td>\n",
       "      <td>-0.586992</td>\n",
       "      <td>-0.043961</td>\n",
       "      <td>0.265201</td>\n",
       "      <td>-0.770903</td>\n",
       "      <td>-0.054257</td>\n",
       "      <td>0.971337</td>\n",
       "      <td>1.000000</td>\n",
       "      <td>-0.690526</td>\n",
       "    </tr>\n",
       "    <tr>\n",
       "      <th>price</th>\n",
       "      <td>-0.082201</td>\n",
       "      <td>0.133999</td>\n",
       "      <td>0.583168</td>\n",
       "      <td>0.682986</td>\n",
       "      <td>0.728699</td>\n",
       "      <td>0.134388</td>\n",
       "      <td>0.820825</td>\n",
       "      <td>0.861752</td>\n",
       "      <td>0.532300</td>\n",
       "      <td>0.082095</td>\n",
       "      <td>0.070990</td>\n",
       "      <td>0.757917</td>\n",
       "      <td>-0.100854</td>\n",
       "      <td>-0.667449</td>\n",
       "      <td>-0.690526</td>\n",
       "      <td>1.000000</td>\n",
       "    </tr>\n",
       "  </tbody>\n",
       "</table>\n",
       "</div>"
      ],
      "text/plain": [
       "                   symboling  normalized-losses  wheel-base    length  \\\n",
       "symboling           1.000000           0.465190   -0.531954 -0.357612   \n",
       "normalized-losses   0.465190           1.000000   -0.056518  0.019209   \n",
       "wheel-base         -0.531954          -0.056518    1.000000  0.874587   \n",
       "length             -0.357612           0.019209    0.874587  1.000000   \n",
       "width              -0.232919           0.084195    0.795144  0.841118   \n",
       "height             -0.541038          -0.370706    0.589435  0.491029   \n",
       "curb-weight        -0.227691           0.097785    0.776386  0.877728   \n",
       "engine-size        -0.105790           0.110997    0.569329  0.683360   \n",
       "bore               -0.130083          -0.029266    0.488760  0.606462   \n",
       "stroke             -0.008689           0.054929    0.160944  0.129522   \n",
       "compression-ratio  -0.178515          -0.114525    0.249786  0.158414   \n",
       "horsepower          0.071389           0.203434    0.351957  0.554434   \n",
       "peak-rpm            0.273679           0.237748   -0.360704 -0.287031   \n",
       "city-mpg           -0.035823          -0.218749   -0.470414 -0.670909   \n",
       "highway-mpg         0.034606          -0.178221   -0.544082 -0.704662   \n",
       "price              -0.082201           0.133999    0.583168  0.682986   \n",
       "\n",
       "                      width    height  curb-weight  engine-size      bore  \\\n",
       "symboling         -0.232919 -0.541038    -0.227691    -0.105790 -0.130083   \n",
       "normalized-losses  0.084195 -0.370706     0.097785     0.110997 -0.029266   \n",
       "wheel-base         0.795144  0.589435     0.776386     0.569329  0.488760   \n",
       "length             0.841118  0.491029     0.877728     0.683360  0.606462   \n",
       "width              1.000000  0.279210     0.867032     0.735433  0.559152   \n",
       "height             0.279210  1.000000     0.295572     0.067149  0.171101   \n",
       "curb-weight        0.867032  0.295572     1.000000     0.850594  0.648485   \n",
       "engine-size        0.735433  0.067149     0.850594     1.000000  0.583798   \n",
       "bore               0.559152  0.171101     0.648485     0.583798  1.000000   \n",
       "stroke             0.182939 -0.055351     0.168783     0.203094 -0.055909   \n",
       "compression-ratio  0.181129  0.261214     0.151362     0.028971  0.005201   \n",
       "horsepower         0.642195 -0.110137     0.750968     0.810713  0.575737   \n",
       "peak-rpm          -0.219859 -0.320602    -0.266283    -0.244599 -0.254761   \n",
       "city-mpg          -0.642704 -0.048640    -0.757414    -0.653658 -0.584508   \n",
       "highway-mpg       -0.677218 -0.107358    -0.797465    -0.677470 -0.586992   \n",
       "price              0.728699  0.134388     0.820825     0.861752  0.532300   \n",
       "\n",
       "                     stroke  compression-ratio  horsepower  peak-rpm  \\\n",
       "symboling         -0.008689          -0.178515    0.071389  0.273679   \n",
       "normalized-losses  0.054929          -0.114525    0.203434  0.237748   \n",
       "wheel-base         0.160944           0.249786    0.351957 -0.360704   \n",
       "length             0.129522           0.158414    0.554434 -0.287031   \n",
       "width              0.182939           0.181129    0.642195 -0.219859   \n",
       "height            -0.055351           0.261214   -0.110137 -0.320602   \n",
       "curb-weight        0.168783           0.151362    0.750968 -0.266283   \n",
       "engine-size        0.203094           0.028971    0.810713 -0.244599   \n",
       "bore              -0.055909           0.005201    0.575737 -0.254761   \n",
       "stroke             1.000000           0.186105    0.088264 -0.066844   \n",
       "compression-ratio  0.186105           1.000000   -0.205740 -0.435936   \n",
       "horsepower         0.088264          -0.205740    1.000000  0.130971   \n",
       "peak-rpm          -0.066844          -0.435936    0.130971  1.000000   \n",
       "city-mpg          -0.042179           0.324701   -0.803162 -0.113723   \n",
       "highway-mpg       -0.043961           0.265201   -0.770903 -0.054257   \n",
       "price              0.082095           0.070990    0.757917 -0.100854   \n",
       "\n",
       "                   city-mpg  highway-mpg     price  \n",
       "symboling         -0.035823     0.034606 -0.082201  \n",
       "normalized-losses -0.218749    -0.178221  0.133999  \n",
       "wheel-base        -0.470414    -0.544082  0.583168  \n",
       "length            -0.670909    -0.704662  0.682986  \n",
       "width             -0.642704    -0.677218  0.728699  \n",
       "height            -0.048640    -0.107358  0.134388  \n",
       "curb-weight       -0.757414    -0.797465  0.820825  \n",
       "engine-size       -0.653658    -0.677470  0.861752  \n",
       "bore              -0.584508    -0.586992  0.532300  \n",
       "stroke            -0.042179    -0.043961  0.082095  \n",
       "compression-ratio  0.324701     0.265201  0.070990  \n",
       "horsepower        -0.803162    -0.770903  0.757917  \n",
       "peak-rpm          -0.113723    -0.054257 -0.100854  \n",
       "city-mpg           1.000000     0.971337 -0.667449  \n",
       "highway-mpg        0.971337     1.000000 -0.690526  \n",
       "price             -0.667449    -0.690526  1.000000  "
      ]
     },
     "execution_count": 254,
     "metadata": {},
     "output_type": "execute_result"
    }
   ],
   "source": [
    "df.corr()"
   ]
  },
  {
   "cell_type": "code",
   "execution_count": 255,
   "metadata": {},
   "outputs": [],
   "source": [
    "#wheel-base, length, width, curb-weight, engine-size, bore, horsepower,\n",
    "#city-mpg, highway-mpg have good correlation with price"
   ]
  },
  {
   "cell_type": "code",
   "execution_count": 256,
   "metadata": {},
   "outputs": [
    {
     "data": {
      "image/png": "[encoded data removed]",
      "text/plain": [
       "<Figure size 360x360 with 1 Axes>"
      ]
     },
     "metadata": {
      "needs_background": "light"
     },
     "output_type": "display_data"
    }
   ],
   "source": [
    "#Not really a good predictor\n",
    "#price do generally increase with increase in wheel base\n",
    "sns.regplot(x = 'wheel-base', y = 'price', data = df)\n",
    "plt.rcParams['figure.figsize']=(5,5)"
   ]
  },
  {
   "cell_type": "code",
   "execution_count": 257,
   "metadata": {},
   "outputs": [
    {
     "data": {
      "image/png": "[encoded data removed]",
      "text/plain": [
       "<Figure size 360x360 with 1 Axes>"
      ]
     },
     "metadata": {
      "needs_background": "light"
     },
     "output_type": "display_data"
    }
   ],
   "source": [
    "sns.regplot(x = 'length', y = 'price', data = df)\n",
    "plt.rcParams['figure.figsize']=(5,5)"
   ]
  },
  {
   "cell_type": "code",
   "execution_count": 258,
   "metadata": {},
   "outputs": [
    {
     "data": {
      "image/png": "[encoded data removed]",
      "text/plain": [
       "<Figure size 360x360 with 1 Axes>"
      ]
     },
     "metadata": {
      "needs_background": "light"
     },
     "output_type": "display_data"
    }
   ],
   "source": [
    "sns.regplot(x = 'width', y = 'price', data = df)\n",
    "plt.rcParams['figure.figsize']=(5,5)"
   ]
  },
  {
   "cell_type": "code",
   "execution_count": 259,
   "metadata": {},
   "outputs": [
    {
     "data": {
      "image/png": "[encoded data removed]",
      "text/plain": [
       "<Figure size 360x360 with 1 Axes>"
      ]
     },
     "metadata": {
      "needs_background": "light"
     },
     "output_type": "display_data"
    }
   ],
   "source": [
    "sns.regplot(x = 'curb-weight', y = 'price', data = df)\n",
    "plt.rcParams['figure.figsize']=(5,5)"
   ]
  },
  {
   "cell_type": "code",
   "execution_count": 260,
   "metadata": {},
   "outputs": [
    {
     "data": {
      "image/png": "[encoded data removed]",
      "text/plain": [
       "<Figure size 360x360 with 1 Axes>"
      ]
     },
     "metadata": {
      "needs_background": "light"
     },
     "output_type": "display_data"
    }
   ],
   "source": [
    "sns.regplot(x = 'engine-size', y = 'price', data = df)\n",
    "plt.rcParams['figure.figsize']=(5,5)"
   ]
  },
  {
   "cell_type": "code",
   "execution_count": 261,
   "metadata": {},
   "outputs": [
    {
     "data": {
      "image/png": "[encoded data removed]",
      "text/plain": [
       "<Figure size 360x360 with 1 Axes>"
      ]
     },
     "metadata": {
      "needs_background": "light"
     },
     "output_type": "display_data"
    }
   ],
   "source": [
    "sns.regplot(x = 'bore', y = 'price', data = df)\n",
    "plt.rcParams['figure.figsize']=(5,5)"
   ]
  },
  {
   "cell_type": "code",
   "execution_count": 262,
   "metadata": {},
   "outputs": [
    {
     "data": {
      "image/png": "[encoded data removed]",
      "text/plain": [
       "<Figure size 360x360 with 1 Axes>"
      ]
     },
     "metadata": {
      "needs_background": "light"
     },
     "output_type": "display_data"
    }
   ],
   "source": [
    "#not a good-predictor\n",
    "sns.regplot(x = 'stroke', y = 'price', data = df)\n",
    "plt.rcParams['figure.figsize']=(5,5)"
   ]
  },
  {
   "cell_type": "code",
   "execution_count": 263,
   "metadata": {},
   "outputs": [
    {
     "data": {
      "image/png": "[encoded data removed]",
      "text/plain": [
       "<Figure size 360x360 with 1 Axes>"
      ]
     },
     "metadata": {
      "needs_background": "light"
     },
     "output_type": "display_data"
    }
   ],
   "source": [
    "#good-predictor\n",
    "sns.regplot(x = 'city-mpg', y = 'price', data = df)\n",
    "plt.rcParams['figure.figsize']=(5,5)"
   ]
  },
  {
   "cell_type": "code",
   "execution_count": 264,
   "metadata": {},
   "outputs": [
    {
     "data": {
      "image/png": "[encoded data removed]",
      "text/plain": [
       "<Figure size 360x360 with 1 Axes>"
      ]
     },
     "metadata": {
      "needs_background": "light"
     },
     "output_type": "display_data"
    }
   ],
   "source": [
    "#good-predictor\n",
    "sns.regplot(x = 'highway-mpg', y = 'price', data = df)\n",
    "plt.rcParams['figure.figsize']=(5,5)"
   ]
  },
  {
   "cell_type": "code",
   "execution_count": 265,
   "metadata": {},
   "outputs": [
    {
     "data": {
      "image/png": "[encoded data removed]",
      "text/plain": [
       "<Figure size 360x360 with 1 Axes>"
      ]
     },
     "metadata": {
      "needs_background": "light"
     },
     "output_type": "display_data"
    }
   ],
   "source": [
    "#good-predictor\n",
    "sns.regplot(x = 'horsepower', y = 'price', data = df)\n",
    "plt.rcParams['figure.figsize']=(5,5)"
   ]
  },
  {
   "cell_type": "code",
   "execution_count": 266,
   "metadata": {},
   "outputs": [
    {
     "data": {
      "text/plain": [
       "<AxesSubplot:xlabel='num-of-cylinders', ylabel='price'>"
      ]
     },
     "execution_count": 266,
     "metadata": {},
     "output_type": "execute_result"
    },
    {
     "data": {
      "image/png": "[encoded data removed]",
      "text/plain": [
       "<Figure size 360x360 with 1 Axes>"
      ]
     },
     "metadata": {
      "needs_background": "light"
     },
     "output_type": "display_data"
    }
   ],
   "source": [
    "sns.boxplot(x = 'num-of-cylinders', y = 'price', data = df)"
   ]
  },
  {
   "cell_type": "code",
   "execution_count": 267,
   "metadata": {},
   "outputs": [
    {
     "data": {
      "image/png": "[encoded data removed]",
      "text/plain": [
       "<Figure size 360x360 with 1 Axes>"
      ]
     },
     "metadata": {
      "needs_background": "light"
     },
     "output_type": "display_data"
    }
   ],
   "source": [
    "#Not great relation\n",
    "sns.regplot(x = 'peak-rpm', y = 'price', data = df)\n",
    "plt.rcParams['figure.figsize']=(5,5)"
   ]
  },
  {
   "cell_type": "code",
   "execution_count": 268,
   "metadata": {},
   "outputs": [
    {
     "data": {
      "text/html": [
       "<div>\n",
       "<style scoped>\n",
       "    .dataframe tbody tr th:only-of-type {\n",
       "        vertical-align: middle;\n",
       "    }\n",
       "\n",
       "    .dataframe tbody tr th {\n",
       "        vertical-align: top;\n",
       "    }\n",
       "\n",
       "    .dataframe thead th {\n",
       "        text-align: right;\n",
       "    }\n",
       "</style>\n",
       "<table border=\"1\" class=\"dataframe\">\n",
       "  <thead>\n",
       "    <tr style=\"text-align: right;\">\n",
       "      <th></th>\n",
       "      <th>symboling</th>\n",
       "      <th>normalized-losses</th>\n",
       "      <th>wheel-base</th>\n",
       "      <th>length</th>\n",
       "      <th>width</th>\n",
       "      <th>height</th>\n",
       "      <th>curb-weight</th>\n",
       "      <th>engine-size</th>\n",
       "      <th>bore</th>\n",
       "      <th>stroke</th>\n",
       "      <th>compression-ratio</th>\n",
       "      <th>horsepower</th>\n",
       "      <th>peak-rpm</th>\n",
       "      <th>city-mpg</th>\n",
       "      <th>highway-mpg</th>\n",
       "      <th>price</th>\n",
       "    </tr>\n",
       "  </thead>\n",
       "  <tbody>\n",
       "    <tr>\n",
       "      <th>count</th>\n",
       "      <td>205.000000</td>\n",
       "      <td>205.000000</td>\n",
       "      <td>205.000000</td>\n",
       "      <td>205.000000</td>\n",
       "      <td>205.000000</td>\n",
       "      <td>205.000000</td>\n",
       "      <td>205.000000</td>\n",
       "      <td>205.000000</td>\n",
       "      <td>205.000000</td>\n",
       "      <td>205.000000</td>\n",
       "      <td>205.000000</td>\n",
       "      <td>205.000000</td>\n",
       "      <td>205.000000</td>\n",
       "      <td>205.000000</td>\n",
       "      <td>205.000000</td>\n",
       "      <td>205.000000</td>\n",
       "    </tr>\n",
       "    <tr>\n",
       "      <th>mean</th>\n",
       "      <td>0.834146</td>\n",
       "      <td>122.000000</td>\n",
       "      <td>98.756585</td>\n",
       "      <td>174.049268</td>\n",
       "      <td>65.907805</td>\n",
       "      <td>53.724878</td>\n",
       "      <td>2555.565854</td>\n",
       "      <td>126.907317</td>\n",
       "      <td>3.329751</td>\n",
       "      <td>3.255423</td>\n",
       "      <td>10.142537</td>\n",
       "      <td>104.256158</td>\n",
       "      <td>5125.369458</td>\n",
       "      <td>25.219512</td>\n",
       "      <td>30.751220</td>\n",
       "      <td>13207.129353</td>\n",
       "    </tr>\n",
       "    <tr>\n",
       "      <th>std</th>\n",
       "      <td>1.245307</td>\n",
       "      <td>31.681008</td>\n",
       "      <td>6.021776</td>\n",
       "      <td>12.337289</td>\n",
       "      <td>2.145204</td>\n",
       "      <td>2.443522</td>\n",
       "      <td>520.680204</td>\n",
       "      <td>41.642693</td>\n",
       "      <td>0.270844</td>\n",
       "      <td>0.313597</td>\n",
       "      <td>3.972040</td>\n",
       "      <td>39.519211</td>\n",
       "      <td>476.979093</td>\n",
       "      <td>6.542142</td>\n",
       "      <td>6.886443</td>\n",
       "      <td>7868.768212</td>\n",
       "    </tr>\n",
       "    <tr>\n",
       "      <th>min</th>\n",
       "      <td>-2.000000</td>\n",
       "      <td>65.000000</td>\n",
       "      <td>86.600000</td>\n",
       "      <td>141.100000</td>\n",
       "      <td>60.300000</td>\n",
       "      <td>47.800000</td>\n",
       "      <td>1488.000000</td>\n",
       "      <td>61.000000</td>\n",
       "      <td>2.540000</td>\n",
       "      <td>2.070000</td>\n",
       "      <td>7.000000</td>\n",
       "      <td>48.000000</td>\n",
       "      <td>4150.000000</td>\n",
       "      <td>13.000000</td>\n",
       "      <td>16.000000</td>\n",
       "      <td>5118.000000</td>\n",
       "    </tr>\n",
       "    <tr>\n",
       "      <th>25%</th>\n",
       "      <td>0.000000</td>\n",
       "      <td>101.000000</td>\n",
       "      <td>94.500000</td>\n",
       "      <td>166.300000</td>\n",
       "      <td>64.100000</td>\n",
       "      <td>52.000000</td>\n",
       "      <td>2145.000000</td>\n",
       "      <td>97.000000</td>\n",
       "      <td>3.150000</td>\n",
       "      <td>3.110000</td>\n",
       "      <td>8.600000</td>\n",
       "      <td>70.000000</td>\n",
       "      <td>4800.000000</td>\n",
       "      <td>19.000000</td>\n",
       "      <td>25.000000</td>\n",
       "      <td>7788.000000</td>\n",
       "    </tr>\n",
       "    <tr>\n",
       "      <th>50%</th>\n",
       "      <td>1.000000</td>\n",
       "      <td>122.000000</td>\n",
       "      <td>97.000000</td>\n",
       "      <td>173.200000</td>\n",
       "      <td>65.500000</td>\n",
       "      <td>54.100000</td>\n",
       "      <td>2414.000000</td>\n",
       "      <td>120.000000</td>\n",
       "      <td>3.310000</td>\n",
       "      <td>3.290000</td>\n",
       "      <td>9.000000</td>\n",
       "      <td>95.000000</td>\n",
       "      <td>5200.000000</td>\n",
       "      <td>24.000000</td>\n",
       "      <td>30.000000</td>\n",
       "      <td>10595.000000</td>\n",
       "    </tr>\n",
       "    <tr>\n",
       "      <th>75%</th>\n",
       "      <td>2.000000</td>\n",
       "      <td>137.000000</td>\n",
       "      <td>102.400000</td>\n",
       "      <td>183.100000</td>\n",
       "      <td>66.900000</td>\n",
       "      <td>55.500000</td>\n",
       "      <td>2935.000000</td>\n",
       "      <td>141.000000</td>\n",
       "      <td>3.580000</td>\n",
       "      <td>3.410000</td>\n",
       "      <td>9.400000</td>\n",
       "      <td>116.000000</td>\n",
       "      <td>5500.000000</td>\n",
       "      <td>30.000000</td>\n",
       "      <td>34.000000</td>\n",
       "      <td>16500.000000</td>\n",
       "    </tr>\n",
       "    <tr>\n",
       "      <th>max</th>\n",
       "      <td>3.000000</td>\n",
       "      <td>256.000000</td>\n",
       "      <td>120.900000</td>\n",
       "      <td>208.100000</td>\n",
       "      <td>72.300000</td>\n",
       "      <td>59.800000</td>\n",
       "      <td>4066.000000</td>\n",
       "      <td>326.000000</td>\n",
       "      <td>3.940000</td>\n",
       "      <td>4.170000</td>\n",
       "      <td>23.000000</td>\n",
       "      <td>288.000000</td>\n",
       "      <td>6600.000000</td>\n",
       "      <td>49.000000</td>\n",
       "      <td>54.000000</td>\n",
       "      <td>45400.000000</td>\n",
       "    </tr>\n",
       "  </tbody>\n",
       "</table>\n",
       "</div>"
      ],
      "text/plain": [
       "        symboling  normalized-losses  wheel-base      length       width  \\\n",
       "count  205.000000         205.000000  205.000000  205.000000  205.000000   \n",
       "mean     0.834146         122.000000   98.756585  174.049268   65.907805   \n",
       "std      1.245307          31.681008    6.021776   12.337289    2.145204   \n",
       "min     -2.000000          65.000000   86.600000  141.100000   60.300000   \n",
       "25%      0.000000         101.000000   94.500000  166.300000   64.100000   \n",
       "50%      1.000000         122.000000   97.000000  173.200000   65.500000   \n",
       "75%      2.000000         137.000000  102.400000  183.100000   66.900000   \n",
       "max      3.000000         256.000000  120.900000  208.100000   72.300000   \n",
       "\n",
       "           height  curb-weight  engine-size        bore      stroke  \\\n",
       "count  205.000000   205.000000   205.000000  205.000000  205.000000   \n",
       "mean    53.724878  2555.565854   126.907317    3.329751    3.255423   \n",
       "std      2.443522   520.680204    41.642693    0.270844    0.313597   \n",
       "min     47.800000  1488.000000    61.000000    2.540000    2.070000   \n",
       "25%     52.000000  2145.000000    97.000000    3.150000    3.110000   \n",
       "50%     54.100000  2414.000000   120.000000    3.310000    3.290000   \n",
       "75%     55.500000  2935.000000   141.000000    3.580000    3.410000   \n",
       "max     59.800000  4066.000000   326.000000    3.940000    4.170000   \n",
       "\n",
       "       compression-ratio  horsepower     peak-rpm    city-mpg  highway-mpg  \\\n",
       "count         205.000000  205.000000   205.000000  205.000000   205.000000   \n",
       "mean           10.142537  104.256158  5125.369458   25.219512    30.751220   \n",
       "std             3.972040   39.519211   476.979093    6.542142     6.886443   \n",
       "min             7.000000   48.000000  4150.000000   13.000000    16.000000   \n",
       "25%             8.600000   70.000000  4800.000000   19.000000    25.000000   \n",
       "50%             9.000000   95.000000  5200.000000   24.000000    30.000000   \n",
       "75%             9.400000  116.000000  5500.000000   30.000000    34.000000   \n",
       "max            23.000000  288.000000  6600.000000   49.000000    54.000000   \n",
       "\n",
       "              price  \n",
       "count    205.000000  \n",
       "mean   13207.129353  \n",
       "std     7868.768212  \n",
       "min     5118.000000  \n",
       "25%     7788.000000  \n",
       "50%    10595.000000  \n",
       "75%    16500.000000  \n",
       "max    45400.000000  "
      ]
     },
     "execution_count": 268,
     "metadata": {},
     "output_type": "execute_result"
    }
   ],
   "source": [
    "df.describe()"
   ]
  },
  {
   "cell_type": "code",
   "execution_count": 269,
   "metadata": {},
   "outputs": [
    {
     "name": "stdout",
     "output_type": "stream",
     "text": [
      "Skewness : 1.827324\n",
      "Kurtosis : 3.354216\n"
     ]
    }
   ],
   "source": [
    "print(\"Skewness : %f\" % df['price'].skew())\n",
    "\n",
    "print(\"Kurtosis : %f\" % df['price'].kurt())\n",
    "#Kurtosis is value > 1, the distribution is too peaked"
   ]
  },
  {
   "cell_type": "code",
   "execution_count": 270,
   "metadata": {},
   "outputs": [
    {
     "name": "stdout",
     "output_type": "stream",
     "text": [
      "<class 'pandas.core.frame.DataFrame'>\n",
      "RangeIndex: 205 entries, 0 to 204\n",
      "Data columns (total 26 columns):\n",
      " #   Column             Non-Null Count  Dtype  \n",
      "---  ------             --------------  -----  \n",
      " 0   symboling          205 non-null    int64  \n",
      " 1   normalized-losses  205 non-null    float64\n",
      " 2   make               205 non-null    object \n",
      " 3   fuel-type          205 non-null    object \n",
      " 4   aspiration         205 non-null    object \n",
      " 5   num-of-doors       205 non-null    object \n",
      " 6   body-style         205 non-null    object \n",
      " 7   drive-wheels       205 non-null    object \n",
      " 8   engine-location    205 non-null    object \n",
      " 9   wheel-base         205 non-null    float64\n",
      " 10  length             205 non-null    float64\n",
      " 11  width              205 non-null    float64\n",
      " 12  height             205 non-null    float64\n",
      " 13  curb-weight        205 non-null    int64  \n",
      " 14  engine-type        205 non-null    object \n",
      " 15  num-of-cylinders   205 non-null    object \n",
      " 16  engine-size        205 non-null    int64  \n",
      " 17  fuel-system        205 non-null    object \n",
      " 18  bore               205 non-null    float64\n",
      " 19  stroke             205 non-null    float64\n",
      " 20  compression-ratio  205 non-null    float64\n",
      " 21  horsepower         205 non-null    float64\n",
      " 22  peak-rpm           205 non-null    float64\n",
      " 23  city-mpg           205 non-null    int64  \n",
      " 24  highway-mpg        205 non-null    int64  \n",
      " 25  price              205 non-null    float64\n",
      "dtypes: float64(11), int64(5), object(10)\n",
      "memory usage: 41.8+ KB\n"
     ]
    }
   ],
   "source": [
    "df.info()"
   ]
  },
  {
   "cell_type": "markdown",
   "metadata": {},
   "source": [
    "### Encoding"
   ]
  },
  {
   "cell_type": "code",
   "execution_count": 271,
   "metadata": {},
   "outputs": [],
   "source": [
    "#only column 'num-of-doors' has value '?' in it\n",
    "#Columns 'fuel-type', 'aspiration', 'num-of-doors', 'engine-location' will need label encoding\n",
    "#Column 'num-of-cylinders' can be replaced with its respective values\n",
    "#Every other column needs OneHotEncoding\n",
    "from sklearn.preprocessing import LabelEncoder, OneHotEncoder\n",
    "from sklearn.compose import ColumnTransformer\n",
    "le = LabelEncoder()\n",
    "cols = ['fuel-type', 'aspiration', 'num-of-doors', 'engine-location']\n",
    "for i in cols:\n",
    "    df[i] = le.fit_transform(df[i])\n",
    "\n",
    "ct = ColumnTransformer([('encoder', OneHotEncoder() ,[2,6, 7, 14, 15, 17])], remainder = 'passthrough')\n",
    "df = ct.fit_transform(df)"
   ]
  },
  {
   "cell_type": "code",
   "execution_count": 272,
   "metadata": {},
   "outputs": [],
   "source": [
    "df = pd.DataFrame(df)"
   ]
  },
  {
   "cell_type": "code",
   "execution_count": 273,
   "metadata": {},
   "outputs": [],
   "source": [
    "#Found out that all the columns are of object datatype so have to change it numerical data so our model can understand it\n",
    "for i in df.columns:\n",
    "    df[i] = pd.to_numeric(df[i])"
   ]
  },
  {
   "cell_type": "code",
   "execution_count": 275,
   "metadata": {},
   "outputs": [
    {
     "name": "stdout",
     "output_type": "stream",
     "text": [
      "<class 'pandas.core.frame.DataFrame'>\n",
      "RangeIndex: 205 entries, 0 to 204\n",
      "Data columns (total 72 columns):\n",
      " #   Column  Non-Null Count  Dtype  \n",
      "---  ------  --------------  -----  \n",
      " 0   0       205 non-null    float64\n",
      " 1   1       205 non-null    float64\n",
      " 2   2       205 non-null    float64\n",
      " 3   3       205 non-null    float64\n",
      " 4   4       205 non-null    float64\n",
      " 5   5       205 non-null    float64\n",
      " 6   6       205 non-null    float64\n",
      " 7   7       205 non-null    float64\n",
      " 8   8       205 non-null    float64\n",
      " 9   9       205 non-null    float64\n",
      " 10  10      205 non-null    float64\n",
      " 11  11      205 non-null    float64\n",
      " 12  12      205 non-null    float64\n",
      " 13  13      205 non-null    float64\n",
      " 14  14      205 non-null    float64\n",
      " 15  15      205 non-null    float64\n",
      " 16  16      205 non-null    float64\n",
      " 17  17      205 non-null    float64\n",
      " 18  18      205 non-null    float64\n",
      " 19  19      205 non-null    float64\n",
      " 20  20      205 non-null    float64\n",
      " 21  21      205 non-null    float64\n",
      " 22  22      205 non-null    float64\n",
      " 23  23      205 non-null    float64\n",
      " 24  24      205 non-null    float64\n",
      " 25  25      205 non-null    float64\n",
      " 26  26      205 non-null    float64\n",
      " 27  27      205 non-null    float64\n",
      " 28  28      205 non-null    float64\n",
      " 29  29      205 non-null    float64\n",
      " 30  30      205 non-null    float64\n",
      " 31  31      205 non-null    float64\n",
      " 32  32      205 non-null    float64\n",
      " 33  33      205 non-null    float64\n",
      " 34  34      205 non-null    float64\n",
      " 35  35      205 non-null    float64\n",
      " 36  36      205 non-null    float64\n",
      " 37  37      205 non-null    float64\n",
      " 38  38      205 non-null    float64\n",
      " 39  39      205 non-null    float64\n",
      " 40  40      205 non-null    float64\n",
      " 41  41      205 non-null    float64\n",
      " 42  42      205 non-null    float64\n",
      " 43  43      205 non-null    float64\n",
      " 44  44      205 non-null    float64\n",
      " 45  45      205 non-null    float64\n",
      " 46  46      205 non-null    float64\n",
      " 47  47      205 non-null    float64\n",
      " 48  48      205 non-null    float64\n",
      " 49  49      205 non-null    float64\n",
      " 50  50      205 non-null    float64\n",
      " 51  51      205 non-null    float64\n",
      " 52  52      205 non-null    float64\n",
      " 53  53      205 non-null    float64\n",
      " 54  54      205 non-null    float64\n",
      " 55  55      205 non-null    float64\n",
      " 56  56      205 non-null    float64\n",
      " 57  57      205 non-null    float64\n",
      " 58  58      205 non-null    float64\n",
      " 59  59      205 non-null    float64\n",
      " 60  60      205 non-null    float64\n",
      " 61  61      205 non-null    float64\n",
      " 62  62      205 non-null    float64\n",
      " 63  63      205 non-null    float64\n",
      " 64  64      205 non-null    float64\n",
      " 65  65      205 non-null    float64\n",
      " 66  66      205 non-null    float64\n",
      " 67  67      205 non-null    float64\n",
      " 68  68      205 non-null    float64\n",
      " 69  69      205 non-null    float64\n",
      " 70  70      205 non-null    float64\n",
      " 71  71      205 non-null    float64\n",
      "dtypes: float64(72)\n",
      "memory usage: 115.4 KB\n"
     ]
    }
   ],
   "source": [
    "df.info()"
   ]
  },
  {
   "cell_type": "markdown",
   "metadata": {},
   "source": [
    "## Model Selection"
   ]
  },
  {
   "cell_type": "code",
   "execution_count": 276,
   "metadata": {},
   "outputs": [],
   "source": [
    "from sklearn.model_selection import train_test_split\n",
    "from sklearn import linear_model\n",
    "from sklearn.tree import DecisionTreeRegressor"
   ]
  },
  {
   "cell_type": "code",
   "execution_count": 277,
   "metadata": {},
   "outputs": [],
   "source": [
    "X = df.iloc[:,:-1]\n",
    "y = df.iloc[:,-1]"
   ]
  },
  {
   "cell_type": "code",
   "execution_count": 372,
   "metadata": {},
   "outputs": [
    {
     "name": "stdout",
     "output_type": "stream",
     "text": [
      "[ True False  True  True  True False  True  True  True  True  True  True\n",
      "  True False  True  True  True  True  True  True  True  True  True False\n",
      " False False False False  True False  True  True False  True  True  True\n",
      "  True  True  True  True  True  True  True  True  True False  True  True\n",
      "  True False False  True False False  True False False  True False False\n",
      "  True False False False  True  True  True False False False False]\n",
      "[ 1  2  1  1  1  3  1  1  1  1  1  1  1  8  1  1  1  1  1  1  1  1  1  9\n",
      " 10 14 23 18  1 20  1  1  4  1  1  1  1  1  1  1  1  1  1  1  1  7  1  1\n",
      "  1  6 11  1 25 26  1  5 16  1 15 17  1 13 24 12  1  1  1 19 27 21 22]\n"
     ]
    },
    {
     "name": "stderr",
     "output_type": "stream",
     "text": [
      "D:\\Python\\lib\\site-packages\\sklearn\\utils\\validation.py:67: FutureWarning: Pass n_features_to_select=45 as keyword args. From version 0.25 passing these as positional arguments will result in an error\n",
      "  warnings.warn(\"Pass {} as keyword args. From version 0.25 \"\n"
     ]
    }
   ],
   "source": [
    "#Using RFE to select important predicting columns\n",
    "from sklearn.feature_selection import RFE\n",
    "\n",
    "logreg = linear_model.LinearRegression()\n",
    "rfe = RFE(logreg, 45)\n",
    "rfe = rfe.fit(X, y)\n",
    "\n",
    "print(rfe.support_)\n",
    "print(rfe.ranking_)"
   ]
  },
  {
   "cell_type": "code",
   "execution_count": 373,
   "metadata": {},
   "outputs": [],
   "source": [
    "d = rfe.support_\n",
    "\n",
    "g = pd.DataFrame(X).columns\n",
    "\n",
    "a = g[d]\n",
    "\n",
    "X_f = X[a]"
   ]
  },
  {
   "cell_type": "code",
   "execution_count": 395,
   "metadata": {},
   "outputs": [],
   "source": [
    "X_train,X_test,y_train,y_test = train_test_split(X_f,y, test_size = 0.2, random_state = 9)"
   ]
  },
  {
   "cell_type": "code",
   "execution_count": 397,
   "metadata": {},
   "outputs": [],
   "source": [
    "regr = linear_model.LinearRegression()\n",
    "#regr = DecisionTreeRegressor()"
   ]
  },
  {
   "cell_type": "code",
   "execution_count": 398,
   "metadata": {},
   "outputs": [
    {
     "data": {
      "text/plain": [
       "LinearRegression()"
      ]
     },
     "execution_count": 398,
     "metadata": {},
     "output_type": "execute_result"
    }
   ],
   "source": [
    "regr.fit(X_train,y_train)"
   ]
  },
  {
   "cell_type": "code",
   "execution_count": 399,
   "metadata": {},
   "outputs": [],
   "source": [
    "y_pred = regr.predict(X_test)"
   ]
  },
  {
   "cell_type": "code",
   "execution_count": 400,
   "metadata": {},
   "outputs": [
    {
     "name": "stdout",
     "output_type": "stream",
     "text": [
      "MSE 5175500.406052686\n",
      "r2 0.900914751361777\n",
      "Accuracy 90.0914751361777\n"
     ]
    }
   ],
   "source": [
    "from sklearn.metrics import mean_squared_error, r2_score\n",
    "\n",
    "print(\"MSE\", mean_squared_error(y_test,y_pred))\n",
    "print(\"r2\", r2_score(y_test, y_pred))\n",
    "print(\"Accuracy\", r2_score(y_test, y_pred)* 100)"
   ]
  },
  {
   "cell_type": "code",
   "execution_count": 401,
   "metadata": {},
   "outputs": [
    {
     "data": {
      "text/plain": [
       "<matplotlib.collections.PathCollection at 0x1b3b7940700>"
      ]
     },
     "execution_count": 401,
     "metadata": {},
     "output_type": "execute_result"
    },
    {
     "data": {
      "image/png": "[encoded data removed]",
      "text/plain": [
       "<Figure size 360x360 with 1 Axes>"
      ]
     },
     "metadata": {
      "needs_background": "light"
     },
     "output_type": "display_data"
    }
   ],
   "source": [
    "plt.scatter(y_test, y_pred)"
   ]
  },
  {
   "cell_type": "code",
   "execution_count": 402,
   "metadata": {},
   "outputs": [
    {
     "name": "stdout",
     "output_type": "stream",
     "text": [
      "How much our Model is learning\n",
      "MSE 3369390.3123684824\n",
      "r2 0.9469736786352698\n",
      "Accuracy 94.69736786352698\n"
     ]
    }
   ],
   "source": [
    "print(\"How much our Model is learning\")\n",
    "y_pred = regr.predict(X_train)\n",
    "print(\"MSE\", mean_squared_error(y_train,y_pred))\n",
    "print(\"r2\", r2_score(y_train, y_pred))\n",
    "print(\"Accuracy\", r2_score(y_train, y_pred)* 100)"
   ]
  },
  {
   "cell_type": "code",
   "execution_count": null,
   "metadata": {},
   "outputs": [],
   "source": []
  }
 ],
 "metadata": {
  "kernelspec": {
   "display_name": "Python 3",
   "language": "python",
   "name": "python3"
  },
  "language_info": {
   "codemirror_mode": {
    "name": "ipython",
    "version": 3
   },
   "file_extension": ".py",
   "mimetype": "text/x-python",
   "name": "python",
   "nbconvert_exporter": "python",
   "pygments_lexer": "ipython3",
   "version": "3.8.5"
  }
 },
 "nbformat": 4,
 "nbformat_minor": 4
}
